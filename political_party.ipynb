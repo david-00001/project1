{
 "cells": [
  {
   "cell_type": "code",
   "execution_count": 1,
   "id": "d94deb88",
   "metadata": {},
   "outputs": [],
   "source": [
    "import pandas as pd\n",
    "import json\n",
    "import requests"
   ]
  },
  {
   "cell_type": "code",
   "execution_count": 266,
   "id": "5be0489b",
   "metadata": {},
   "outputs": [],
   "source": [
    "# total rows will be 2514\n",
    "api_key = \"JtTSu2kisb3xEo0BUkyxo9mOC6PJQZfgUEAk5MMc\"\n",
    "\n",
    "\n",
    "congress_df = pd.DataFrame()"
   ]
  },
  {
   "cell_type": "code",
   "execution_count": 269,
   "id": "048ad610",
   "metadata": {},
   "outputs": [],
   "source": [
    "offset = 2000\n",
    "for i in range(5):\n",
    "    url = f\"https://api.congress.gov/v3/member?api_key={api_key}&limit=100&offset={offset}\"\n",
    "    response = requests.get(url)\n",
    "    data = response.json()\n",
    "    df_i = pd.json_normalize(data['members'])\n",
    "    congress_df = pd.concat([congress_df,df_i], ignore_index=True)\n",
    "    offset = offset + 100"
   ]
  },
  {
   "cell_type": "code",
   "execution_count": 270,
   "id": "dd8a3ac0",
   "metadata": {},
   "outputs": [
    {
     "data": {
      "text/html": [
       "<div>\n",
       "<style scoped>\n",
       "    .dataframe tbody tr th:only-of-type {\n",
       "        vertical-align: middle;\n",
       "    }\n",
       "\n",
       "    .dataframe tbody tr th {\n",
       "        vertical-align: top;\n",
       "    }\n",
       "\n",
       "    .dataframe thead th {\n",
       "        text-align: right;\n",
       "    }\n",
       "</style>\n",
       "<table border=\"1\" class=\"dataframe\">\n",
       "  <thead>\n",
       "    <tr style=\"text-align: right;\">\n",
       "      <th></th>\n",
       "      <th>member.bioguideId</th>\n",
       "      <th>member.depiction.attribution</th>\n",
       "      <th>member.depiction.imageUrl</th>\n",
       "      <th>member.district</th>\n",
       "      <th>member.name</th>\n",
       "      <th>member.party</th>\n",
       "      <th>member.served.House</th>\n",
       "      <th>member.state</th>\n",
       "      <th>member.url</th>\n",
       "      <th>member.served.Senate</th>\n",
       "    </tr>\n",
       "  </thead>\n",
       "  <tbody>\n",
       "    <tr>\n",
       "      <th>0</th>\n",
       "      <td>S000062</td>\n",
       "      <td>Collection of the U.S. House of Representatives</td>\n",
       "      <td>https://www.congress.gov/img/member/s000062_20...</td>\n",
       "      <td>5.0</td>\n",
       "      <td>Sarasin, Ronald A.</td>\n",
       "      <td>Republican</td>\n",
       "      <td>[{'end': 1979, 'start': 1973}]</td>\n",
       "      <td>Connecticut</td>\n",
       "      <td>https://api.congress.gov/v3/member/S000062?for...</td>\n",
       "      <td>NaN</td>\n",
       "    </tr>\n",
       "    <tr>\n",
       "      <th>1</th>\n",
       "      <td>B001305</td>\n",
       "      <td>Image courtesy of the Member</td>\n",
       "      <td>https://www.congress.gov/img/member/b001305_20...</td>\n",
       "      <td>NaN</td>\n",
       "      <td>Budd, Ted</td>\n",
       "      <td>Republican</td>\n",
       "      <td>[{'end': 2023, 'start': 2017}]</td>\n",
       "      <td>North Carolina</td>\n",
       "      <td>https://api.congress.gov/v3/member/B001305?for...</td>\n",
       "      <td>[{'start': 2023}]</td>\n",
       "    </tr>\n",
       "    <tr>\n",
       "      <th>2</th>\n",
       "      <td>W000817</td>\n",
       "      <td>&lt;a href=\"http://www.senate.gov/artandhistory/h...</td>\n",
       "      <td>https://www.congress.gov/img/member/w000817_20...</td>\n",
       "      <td>NaN</td>\n",
       "      <td>Warren, Elizabeth</td>\n",
       "      <td>Democratic</td>\n",
       "      <td>NaN</td>\n",
       "      <td>Massachusetts</td>\n",
       "      <td>https://api.congress.gov/v3/member/W000817?for...</td>\n",
       "      <td>[{'start': 2013}]</td>\n",
       "    </tr>\n",
       "    <tr>\n",
       "      <th>3</th>\n",
       "      <td>W000802</td>\n",
       "      <td>&lt;a href=\"http://www.senate.gov/artandhistory/h...</td>\n",
       "      <td>https://www.congress.gov/img/member/w000802_20...</td>\n",
       "      <td>NaN</td>\n",
       "      <td>Whitehouse, Sheldon</td>\n",
       "      <td>Democratic</td>\n",
       "      <td>NaN</td>\n",
       "      <td>Rhode Island</td>\n",
       "      <td>https://api.congress.gov/v3/member/W000802?for...</td>\n",
       "      <td>[{'start': 2007}]</td>\n",
       "    </tr>\n",
       "    <tr>\n",
       "      <th>4</th>\n",
       "      <td>Y000064</td>\n",
       "      <td>Image courtesy of the Member</td>\n",
       "      <td>https://www.congress.gov/img/member/y000064_20...</td>\n",
       "      <td>NaN</td>\n",
       "      <td>Young, Todd</td>\n",
       "      <td>Republican</td>\n",
       "      <td>[{'end': 2017, 'start': 2011}]</td>\n",
       "      <td>Indiana</td>\n",
       "      <td>https://api.congress.gov/v3/member/Y000064?for...</td>\n",
       "      <td>[{'start': 2017}]</td>\n",
       "    </tr>\n",
       "    <tr>\n",
       "      <th>...</th>\n",
       "      <td>...</td>\n",
       "      <td>...</td>\n",
       "      <td>...</td>\n",
       "      <td>...</td>\n",
       "      <td>...</td>\n",
       "      <td>...</td>\n",
       "      <td>...</td>\n",
       "      <td>...</td>\n",
       "      <td>...</td>\n",
       "      <td>...</td>\n",
       "    </tr>\n",
       "    <tr>\n",
       "      <th>2495</th>\n",
       "      <td>F000349</td>\n",
       "      <td>Collection of the U.S. House of Representatives</td>\n",
       "      <td>https://www.congress.gov/img/member/f000349_20...</td>\n",
       "      <td>7.0</td>\n",
       "      <td>Franks, Bob</td>\n",
       "      <td>Republican</td>\n",
       "      <td>[{'end': 2001, 'start': 1993}]</td>\n",
       "      <td>New Jersey</td>\n",
       "      <td>https://api.congress.gov/v3/member/F000349?for...</td>\n",
       "      <td>NaN</td>\n",
       "    </tr>\n",
       "    <tr>\n",
       "      <th>2496</th>\n",
       "      <td>F000347</td>\n",
       "      <td>Collection of the U.S. House of Representatives</td>\n",
       "      <td>https://www.congress.gov/img/member/f000347_20...</td>\n",
       "      <td>2.0</td>\n",
       "      <td>Franklin, William W.</td>\n",
       "      <td>Republican</td>\n",
       "      <td>[{'end': 1987, 'start': 1983}]</td>\n",
       "      <td>Mississippi</td>\n",
       "      <td>https://api.congress.gov/v3/member/F000347?for...</td>\n",
       "      <td>NaN</td>\n",
       "    </tr>\n",
       "    <tr>\n",
       "      <th>2497</th>\n",
       "      <td>F000339</td>\n",
       "      <td>Collection of the U.S. House of Representative...</td>\n",
       "      <td>https://www.congress.gov/img/member/f000339_20...</td>\n",
       "      <td>4.0</td>\n",
       "      <td>Frank, Barney</td>\n",
       "      <td>Democratic</td>\n",
       "      <td>[{'end': 2013, 'start': 1981}]</td>\n",
       "      <td>Massachusetts</td>\n",
       "      <td>https://api.congress.gov/v3/member/F000339?for...</td>\n",
       "      <td>NaN</td>\n",
       "    </tr>\n",
       "    <tr>\n",
       "      <th>2498</th>\n",
       "      <td>F000332</td>\n",
       "      <td>Image, Congressional Pictorial Directory, 105th.</td>\n",
       "      <td>https://www.congress.gov/img/member/f000332_20...</td>\n",
       "      <td>13.0</td>\n",
       "      <td>Fox, Jon D.</td>\n",
       "      <td>Republican</td>\n",
       "      <td>[{'end': 1999, 'start': 1995}]</td>\n",
       "      <td>Pennsylvania</td>\n",
       "      <td>https://api.congress.gov/v3/member/F000332?for...</td>\n",
       "      <td>NaN</td>\n",
       "    </tr>\n",
       "    <tr>\n",
       "      <th>2499</th>\n",
       "      <td>F000329</td>\n",
       "      <td>&lt;a href=\"http://www.senate.gov/artandhistory/h...</td>\n",
       "      <td>https://www.congress.gov/img/member/f000329_20...</td>\n",
       "      <td>NaN</td>\n",
       "      <td>Fowler, Wyche, Jr.</td>\n",
       "      <td>Democratic</td>\n",
       "      <td>[{'end': 1987, 'start': 1977}]</td>\n",
       "      <td>Georgia</td>\n",
       "      <td>https://api.congress.gov/v3/member/F000329?for...</td>\n",
       "      <td>[{'end': 1993, 'start': 1987}]</td>\n",
       "    </tr>\n",
       "  </tbody>\n",
       "</table>\n",
       "<p>2500 rows × 10 columns</p>\n",
       "</div>"
      ],
      "text/plain": [
       "     member.bioguideId                       member.depiction.attribution  \\\n",
       "0              S000062    Collection of the U.S. House of Representatives   \n",
       "1              B001305                       Image courtesy of the Member   \n",
       "2              W000817  <a href=\"http://www.senate.gov/artandhistory/h...   \n",
       "3              W000802  <a href=\"http://www.senate.gov/artandhistory/h...   \n",
       "4              Y000064                       Image courtesy of the Member   \n",
       "...                ...                                                ...   \n",
       "2495           F000349    Collection of the U.S. House of Representatives   \n",
       "2496           F000347    Collection of the U.S. House of Representatives   \n",
       "2497           F000339  Collection of the U.S. House of Representative...   \n",
       "2498           F000332   Image, Congressional Pictorial Directory, 105th.   \n",
       "2499           F000329  <a href=\"http://www.senate.gov/artandhistory/h...   \n",
       "\n",
       "                              member.depiction.imageUrl  member.district  \\\n",
       "0     https://www.congress.gov/img/member/s000062_20...              5.0   \n",
       "1     https://www.congress.gov/img/member/b001305_20...              NaN   \n",
       "2     https://www.congress.gov/img/member/w000817_20...              NaN   \n",
       "3     https://www.congress.gov/img/member/w000802_20...              NaN   \n",
       "4     https://www.congress.gov/img/member/y000064_20...              NaN   \n",
       "...                                                 ...              ...   \n",
       "2495  https://www.congress.gov/img/member/f000349_20...              7.0   \n",
       "2496  https://www.congress.gov/img/member/f000347_20...              2.0   \n",
       "2497  https://www.congress.gov/img/member/f000339_20...              4.0   \n",
       "2498  https://www.congress.gov/img/member/f000332_20...             13.0   \n",
       "2499  https://www.congress.gov/img/member/f000329_20...              NaN   \n",
       "\n",
       "               member.name member.party             member.served.House  \\\n",
       "0       Sarasin, Ronald A.   Republican  [{'end': 1979, 'start': 1973}]   \n",
       "1                Budd, Ted   Republican  [{'end': 2023, 'start': 2017}]   \n",
       "2        Warren, Elizabeth   Democratic                             NaN   \n",
       "3      Whitehouse, Sheldon   Democratic                             NaN   \n",
       "4              Young, Todd   Republican  [{'end': 2017, 'start': 2011}]   \n",
       "...                    ...          ...                             ...   \n",
       "2495           Franks, Bob   Republican  [{'end': 2001, 'start': 1993}]   \n",
       "2496  Franklin, William W.   Republican  [{'end': 1987, 'start': 1983}]   \n",
       "2497         Frank, Barney   Democratic  [{'end': 2013, 'start': 1981}]   \n",
       "2498           Fox, Jon D.   Republican  [{'end': 1999, 'start': 1995}]   \n",
       "2499    Fowler, Wyche, Jr.   Democratic  [{'end': 1987, 'start': 1977}]   \n",
       "\n",
       "        member.state                                         member.url  \\\n",
       "0        Connecticut  https://api.congress.gov/v3/member/S000062?for...   \n",
       "1     North Carolina  https://api.congress.gov/v3/member/B001305?for...   \n",
       "2      Massachusetts  https://api.congress.gov/v3/member/W000817?for...   \n",
       "3       Rhode Island  https://api.congress.gov/v3/member/W000802?for...   \n",
       "4            Indiana  https://api.congress.gov/v3/member/Y000064?for...   \n",
       "...              ...                                                ...   \n",
       "2495      New Jersey  https://api.congress.gov/v3/member/F000349?for...   \n",
       "2496     Mississippi  https://api.congress.gov/v3/member/F000347?for...   \n",
       "2497   Massachusetts  https://api.congress.gov/v3/member/F000339?for...   \n",
       "2498    Pennsylvania  https://api.congress.gov/v3/member/F000332?for...   \n",
       "2499         Georgia  https://api.congress.gov/v3/member/F000329?for...   \n",
       "\n",
       "                member.served.Senate  \n",
       "0                                NaN  \n",
       "1                  [{'start': 2023}]  \n",
       "2                  [{'start': 2013}]  \n",
       "3                  [{'start': 2007}]  \n",
       "4                  [{'start': 2017}]  \n",
       "...                              ...  \n",
       "2495                             NaN  \n",
       "2496                             NaN  \n",
       "2497                             NaN  \n",
       "2498                             NaN  \n",
       "2499  [{'end': 1993, 'start': 1987}]  \n",
       "\n",
       "[2500 rows x 10 columns]"
      ]
     },
     "execution_count": 270,
     "metadata": {},
     "output_type": "execute_result"
    }
   ],
   "source": [
    "congress_df"
   ]
  },
  {
   "cell_type": "code",
   "execution_count": 271,
   "id": "0e3b600a",
   "metadata": {},
   "outputs": [
    {
     "data": {
      "text/plain": [
       "2023"
      ]
     },
     "execution_count": 271,
     "metadata": {},
     "output_type": "execute_result"
    }
   ],
   "source": [
    "#testing to pull the right data\n",
    "congress_df['member.served.Senate'][1][0][\"start\"]\n",
    "\n",
    "# [0]['start']"
   ]
  },
  {
   "cell_type": "code",
   "execution_count": 272,
   "id": "76002aff",
   "metadata": {},
   "outputs": [
    {
     "data": {
      "text/plain": [
       "Index(['member.bioguideId', 'member.depiction.attribution',\n",
       "       'member.depiction.imageUrl', 'member.district', 'member.name',\n",
       "       'member.party', 'member.served.House', 'member.state', 'member.url',\n",
       "       'member.served.Senate'],\n",
       "      dtype='object')"
      ]
     },
     "execution_count": 272,
     "metadata": {},
     "output_type": "execute_result"
    }
   ],
   "source": [
    "# columns of the dataframe\n",
    "congress_df.columns"
   ]
  },
  {
   "cell_type": "code",
   "execution_count": 275,
   "id": "3ee1c60c",
   "metadata": {},
   "outputs": [
    {
     "data": {
      "text/plain": [
       "2500"
      ]
     },
     "execution_count": 275,
     "metadata": {},
     "output_type": "execute_result"
    }
   ],
   "source": [
    "len(senate_years)"
   ]
  },
  {
   "cell_type": "code",
   "execution_count": 274,
   "id": "609e7218",
   "metadata": {},
   "outputs": [
    {
     "data": {
      "text/plain": [
       "1975"
      ]
     },
     "execution_count": 274,
     "metadata": {},
     "output_type": "execute_result"
    }
   ],
   "source": [
    "senate_years = congress_df['member.served.Senate']\n",
    "house_years = congress_df['member.served.House']\n",
    "house_years[1345][0]['end']"
   ]
  },
  {
   "cell_type": "code",
   "execution_count": 276,
   "id": "25fb1182",
   "metadata": {},
   "outputs": [
    {
     "name": "stdout",
     "output_type": "stream",
     "text": [
      "323 senators added to the list\n",
      "2177 congress people skipped\n"
     ]
    }
   ],
   "source": [
    "senate_end_list = []\n",
    "added_list = 0\n",
    "skipped_list = 0\n",
    "\n",
    "for row in range(len(senate_years)):\n",
    "    try:\n",
    "        end_date = senate_years[row][0][\"end\"]\n",
    "        senate_end_list.append(end_date)\n",
    "        added_list = added_list + 1\n",
    "    except:\n",
    "        senate_end_list.append('')\n",
    "        skipped_list = skipped_list + 1\n",
    "\n",
    "print(f'{added_list} senators added to the list')\n",
    "print(f'{skipped_list} congress people skipped')"
   ]
  },
  {
   "cell_type": "code",
   "execution_count": 277,
   "id": "53ae45d8",
   "metadata": {},
   "outputs": [
    {
     "name": "stdout",
     "output_type": "stream",
     "text": [
      "423 senators added to the list\n",
      "2077 politicians skipped\n"
     ]
    }
   ],
   "source": [
    "senate_start_list = []\n",
    "added_list = 0\n",
    "skipped_list = 0\n",
    "\n",
    "\n",
    "for row in range(len(senate_years)):\n",
    "    try:\n",
    "        start_date = senate_years[row][0][\"start\"]\n",
    "        senate_start_list.append(start_date)\n",
    "        added_list = added_list + 1\n",
    "    except:\n",
    "        senate_start_list.append('')\n",
    "        skipped_list = skipped_list + 1\n",
    "        \n",
    "print(f'{added_list} senators added to the list')\n",
    "print(f'{skipped_list} politicians skipped')"
   ]
  },
  {
   "cell_type": "code",
   "execution_count": 278,
   "id": "0ca0d866",
   "metadata": {},
   "outputs": [
    {
     "name": "stdout",
     "output_type": "stream",
     "text": [
      "2245 senators added to the list\n",
      "255 politicians skipped\n"
     ]
    }
   ],
   "source": [
    "house_start_list = []\n",
    "added_list = 0\n",
    "skipped_list = 0\n",
    "\n",
    "for row in range(len(house_years)):\n",
    "    try:\n",
    "        start_date = house_years[row][0][\"start\"]\n",
    "        house_start_list.append(start_date)\n",
    "        added_list = added_list + 1\n",
    "    except:\n",
    "        house_start_list.append('')\n",
    "        skipped_list = skipped_list + 1\n",
    "        \n",
    "print(f'{added_list} senators added to the list')\n",
    "print(f'{skipped_list} politicians skipped')"
   ]
  },
  {
   "cell_type": "code",
   "execution_count": 279,
   "id": "14c72c08",
   "metadata": {},
   "outputs": [
    {
     "name": "stdout",
     "output_type": "stream",
     "text": [
      "1816 senators added to the list\n",
      "684 politicians skipped\n"
     ]
    }
   ],
   "source": [
    "house_end_list = []\n",
    "added_list = 0\n",
    "skipped_list = 0\n",
    "\n",
    "for row in range(len(house_years)):\n",
    "    try:\n",
    "        end_date = house_years[row][0][\"end\"]\n",
    "        house_end_list.append(end_date)\n",
    "        added_list = added_list + 1\n",
    "    except:\n",
    "        house_end_list.append('')\n",
    "        skipped_list = skipped_list + 1\n",
    "        \n",
    "print(f'{added_list} senators added to the list')\n",
    "print(f'{skipped_list} politicians skipped')"
   ]
  },
  {
   "cell_type": "code",
   "execution_count": 280,
   "id": "3618aa76",
   "metadata": {},
   "outputs": [],
   "source": [
    "congress_df['Senate Start Year'] = senate_start_list\n",
    "congress_df['Senate End Year'] = senate_end_list\n",
    "congress_df['House Start Year'] = house_start_list\n",
    "congress_df['House End Year'] = house_end_list\n",
    "\n"
   ]
  },
  {
   "cell_type": "code",
   "execution_count": 281,
   "id": "ec6ef069",
   "metadata": {},
   "outputs": [
    {
     "data": {
      "text/plain": [
       "Index(['member.bioguideId', 'member.depiction.attribution',\n",
       "       'member.depiction.imageUrl', 'member.district', 'member.name',\n",
       "       'member.party', 'member.served.House', 'member.state', 'member.url',\n",
       "       'member.served.Senate', 'Senate Start Year', 'Senate End Year',\n",
       "       'House Start Year', 'House End Year'],\n",
       "      dtype='object')"
      ]
     },
     "execution_count": 281,
     "metadata": {},
     "output_type": "execute_result"
    }
   ],
   "source": [
    "congress_df.columns"
   ]
  },
  {
   "cell_type": "code",
   "execution_count": 282,
   "id": "4f34b58c",
   "metadata": {},
   "outputs": [
    {
     "data": {
      "text/html": [
       "<div>\n",
       "<style scoped>\n",
       "    .dataframe tbody tr th:only-of-type {\n",
       "        vertical-align: middle;\n",
       "    }\n",
       "\n",
       "    .dataframe tbody tr th {\n",
       "        vertical-align: top;\n",
       "    }\n",
       "\n",
       "    .dataframe thead th {\n",
       "        text-align: right;\n",
       "    }\n",
       "</style>\n",
       "<table border=\"1\" class=\"dataframe\">\n",
       "  <thead>\n",
       "    <tr style=\"text-align: right;\">\n",
       "      <th></th>\n",
       "      <th>Bio Guide ID</th>\n",
       "      <th>Name</th>\n",
       "      <th>Party</th>\n",
       "      <th>State</th>\n",
       "      <th>API URL</th>\n",
       "      <th>District Number</th>\n",
       "      <th>Senate End Year</th>\n",
       "      <th>Senate Start Year</th>\n",
       "      <th>House Start Year</th>\n",
       "      <th>House End Year</th>\n",
       "    </tr>\n",
       "  </thead>\n",
       "  <tbody>\n",
       "    <tr>\n",
       "      <th>0</th>\n",
       "      <td>S000062</td>\n",
       "      <td>Sarasin, Ronald A.</td>\n",
       "      <td>Republican</td>\n",
       "      <td>Connecticut</td>\n",
       "      <td>https://api.congress.gov/v3/member/S000062?for...</td>\n",
       "      <td>5.0</td>\n",
       "      <td></td>\n",
       "      <td></td>\n",
       "      <td>1973</td>\n",
       "      <td>1979</td>\n",
       "    </tr>\n",
       "    <tr>\n",
       "      <th>1</th>\n",
       "      <td>B001305</td>\n",
       "      <td>Budd, Ted</td>\n",
       "      <td>Republican</td>\n",
       "      <td>North Carolina</td>\n",
       "      <td>https://api.congress.gov/v3/member/B001305?for...</td>\n",
       "      <td>NaN</td>\n",
       "      <td></td>\n",
       "      <td>2023</td>\n",
       "      <td>2017</td>\n",
       "      <td>2023</td>\n",
       "    </tr>\n",
       "    <tr>\n",
       "      <th>2</th>\n",
       "      <td>W000817</td>\n",
       "      <td>Warren, Elizabeth</td>\n",
       "      <td>Democratic</td>\n",
       "      <td>Massachusetts</td>\n",
       "      <td>https://api.congress.gov/v3/member/W000817?for...</td>\n",
       "      <td>NaN</td>\n",
       "      <td></td>\n",
       "      <td>2013</td>\n",
       "      <td></td>\n",
       "      <td></td>\n",
       "    </tr>\n",
       "    <tr>\n",
       "      <th>3</th>\n",
       "      <td>W000802</td>\n",
       "      <td>Whitehouse, Sheldon</td>\n",
       "      <td>Democratic</td>\n",
       "      <td>Rhode Island</td>\n",
       "      <td>https://api.congress.gov/v3/member/W000802?for...</td>\n",
       "      <td>NaN</td>\n",
       "      <td></td>\n",
       "      <td>2007</td>\n",
       "      <td></td>\n",
       "      <td></td>\n",
       "    </tr>\n",
       "    <tr>\n",
       "      <th>4</th>\n",
       "      <td>Y000064</td>\n",
       "      <td>Young, Todd</td>\n",
       "      <td>Republican</td>\n",
       "      <td>Indiana</td>\n",
       "      <td>https://api.congress.gov/v3/member/Y000064?for...</td>\n",
       "      <td>NaN</td>\n",
       "      <td></td>\n",
       "      <td>2017</td>\n",
       "      <td>2011</td>\n",
       "      <td>2017</td>\n",
       "    </tr>\n",
       "  </tbody>\n",
       "</table>\n",
       "</div>"
      ],
      "text/plain": [
       "  Bio Guide ID                 Name       Party           State  \\\n",
       "0      S000062   Sarasin, Ronald A.  Republican     Connecticut   \n",
       "1      B001305            Budd, Ted  Republican  North Carolina   \n",
       "2      W000817    Warren, Elizabeth  Democratic   Massachusetts   \n",
       "3      W000802  Whitehouse, Sheldon  Democratic    Rhode Island   \n",
       "4      Y000064          Young, Todd  Republican         Indiana   \n",
       "\n",
       "                                             API URL  District Number  \\\n",
       "0  https://api.congress.gov/v3/member/S000062?for...              5.0   \n",
       "1  https://api.congress.gov/v3/member/B001305?for...              NaN   \n",
       "2  https://api.congress.gov/v3/member/W000817?for...              NaN   \n",
       "3  https://api.congress.gov/v3/member/W000802?for...              NaN   \n",
       "4  https://api.congress.gov/v3/member/Y000064?for...              NaN   \n",
       "\n",
       "  Senate End Year Senate Start Year House Start Year House End Year  \n",
       "0                                               1973           1979  \n",
       "1                              2023             2017           2023  \n",
       "2                              2013                                  \n",
       "3                              2007                                  \n",
       "4                              2017             2011           2017  "
      ]
     },
     "execution_count": 282,
     "metadata": {},
     "output_type": "execute_result"
    }
   ],
   "source": [
    "congress_df = congress_df.rename(columns = {'member.bioguideId': 'Bio Guide ID',\n",
    "                         'member.name': 'Name',\n",
    "                         'member.party': 'Party',\n",
    "                         'member.state': 'State',\n",
    "                         'member.url': 'API URL', \n",
    "                         'member.district': 'District Number'})\n",
    "congress_df = congress_df[['Bio Guide ID', 'Name', 'Party', 'State', 'API URL', 'District Number',\n",
    "       'Senate End Year', 'Senate Start Year', 'House Start Year',\n",
    "       'House End Year']]\n",
    "\n",
    "congress_df.head()"
   ]
  },
  {
   "cell_type": "code",
   "execution_count": 121,
   "id": "8e935a2a",
   "metadata": {},
   "outputs": [
    {
     "data": {
      "text/plain": [
       "Bio Guide ID          object\n",
       "Name                  object\n",
       "Party                 object\n",
       "State                 object\n",
       "API URL               object\n",
       "District Number      float64\n",
       "Senate End Year       object\n",
       "Senate Start Year     object\n",
       "House Start Year      object\n",
       "House End Year        object\n",
       "dtype: object"
      ]
     },
     "execution_count": 121,
     "metadata": {},
     "output_type": "execute_result"
    }
   ],
   "source": [
    "congress_df.to()"
   ]
  },
  {
   "cell_type": "code",
   "execution_count": null,
   "id": "ecad5cad",
   "metadata": {},
   "outputs": [],
   "source": []
  }
 ],
 "metadata": {
  "kernelspec": {
   "display_name": "Python 3 (ipykernel)",
   "language": "python",
   "name": "python3"
  },
  "language_info": {
   "codemirror_mode": {
    "name": "ipython",
    "version": 3
   },
   "file_extension": ".py",
   "mimetype": "text/x-python",
   "name": "python",
   "nbconvert_exporter": "python",
   "pygments_lexer": "ipython3",
   "version": "3.9.13"
  }
 },
 "nbformat": 4,
 "nbformat_minor": 5
}
