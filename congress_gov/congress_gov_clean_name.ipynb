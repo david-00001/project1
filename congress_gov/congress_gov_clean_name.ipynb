{
 "cells": [
  {
   "cell_type": "code",
   "execution_count": 1,
   "id": "cfefe0d0",
   "metadata": {},
   "outputs": [],
   "source": [
    "import pandas as pd\n",
    "import numpy as np\n",
    "\n",
    "adf = pd.read_csv(\"../legislator_info.csv\")\n",
    "adf = adf.drop([\"Unnamed: 0\",\"API URL\"],axis=1)\n",
    "#suffix_list = [\"Jr.\",\"Sr.\",\"IV\",\"II\",\"III\"]\n",
    "\n",
    "# Extract Suffix and remove from source column\n",
    "adf['Suffix'] = adf['Name'].str.extract(r'(Jr\\.|III|IV|II|Sr\\.)')\n",
    "\n",
    "# Replace suffixes with empty strings in original source column (so it isn't pulled again)\n",
    "adf['Name'] = adf['Name'].str.replace(r'(Jr\\.|III|IV|II|Sr\\.)', '',regex=True)\n",
    "\n",
    "# Extract nicknames and remove from source column (so it isn't pulled again)\n",
    "adf[\"Nickname\"] = adf[\"Name\"].str.extract(r'(\"[^\"]+\"|\\([^)]+\\))')\n",
    "adf[\"Name\"] = adf[\"Name\"].str.replace(r'(\"[^\"]+\"|\\([^)]+\\))',\"\",regex=True)\n",
    "\n",
    "# Split name into separate columns\n",
    "adf[[\"Last\",\"First_temp\",\"Suffix_temp\"]] = adf[\"Name\"].str.split(\",\",expand=True)\n",
    "\n",
    "# Remove extra characters and spaces from Nickname\n",
    "adf[\"Nickname\"] = adf[\"Nickname\"].str.replace(\"(\",\"\",regex=False).str.replace(\")\", \"\",regex=False).str.replace('\"', \"\",regex=False).str.replace(\",\",\"\",regex=False)\n",
    "\n",
    "# If you need to check a specific row\n",
    "#adf.loc[779]\n"
   ]
  },
  {
   "cell_type": "code",
   "execution_count": 2,
   "id": "50963057",
   "metadata": {},
   "outputs": [
    {
     "data": {
      "text/plain": [
       "Jr.    107\n",
       "III     10\n",
       "IV       4\n",
       "II       4\n",
       "Sr.      3\n",
       "Name: Suffix, dtype: int64"
      ]
     },
     "execution_count": 2,
     "metadata": {},
     "output_type": "execute_result"
    }
   ],
   "source": [
    "# Verify Suffix looks good\n",
    "adf[\"Suffix\"].value_counts()"
   ]
  },
  {
   "cell_type": "code",
   "execution_count": 3,
   "id": "e2849f9e",
   "metadata": {},
   "outputs": [
    {
     "data": {
      "text/plain": [
       "Buddy           3\n",
       "Bill            3\n",
       "Gene            2\n",
       "Skip            1\n",
       "Joe             1\n",
       "Bob             1\n",
       "Dick            1\n",
       "Dee             1\n",
       "Jake            1\n",
       "Randy           1\n",
       "Butch           1\n",
       "Buck            1\n",
       "Bud             1\n",
       "Dan             1\n",
       "Duke            1\n",
       "Jack            1\n",
       "Mrs. Gillis     1\n",
       "Jim             1\n",
       "Jerry           1\n",
       "Al              1\n",
       "Lindy           1\n",
       "Sonny           1\n",
       "Pete            1\n",
       "Quico           1\n",
       "Chuck           1\n",
       "Rick            1\n",
       "Hank            1\n",
       "Joseph          1\n",
       "Jimmy           1\n",
       "Stan            1\n",
       "Chuy            1\n",
       "Chip            1\n",
       "Jim Guy         1\n",
       "Billy           1\n",
       "Robin           1\n",
       "Mrs. John B.    1\n",
       "Bobby           1\n",
       "Fred            1\n",
       "Name: Nickname, dtype: int64"
      ]
     },
     "execution_count": 3,
     "metadata": {},
     "output_type": "execute_result"
    }
   ],
   "source": [
    "# Verify Nickname looks good\n",
    "adf[\"Nickname\"].value_counts()"
   ]
  },
  {
   "cell_type": "code",
   "execution_count": 4,
   "id": "3d2e4c38",
   "metadata": {},
   "outputs": [
    {
     "data": {
      "text/html": [
       "<div>\n",
       "<style scoped>\n",
       "    .dataframe tbody tr th:only-of-type {\n",
       "        vertical-align: middle;\n",
       "    }\n",
       "\n",
       "    .dataframe tbody tr th {\n",
       "        vertical-align: top;\n",
       "    }\n",
       "\n",
       "    .dataframe thead th {\n",
       "        text-align: right;\n",
       "    }\n",
       "</style>\n",
       "<table border=\"1\" class=\"dataframe\">\n",
       "  <thead>\n",
       "    <tr style=\"text-align: right;\">\n",
       "      <th></th>\n",
       "      <th>0</th>\n",
       "      <th>1</th>\n",
       "      <th>2</th>\n",
       "      <th>3</th>\n",
       "      <th>4</th>\n",
       "    </tr>\n",
       "  </thead>\n",
       "  <tbody>\n",
       "    <tr>\n",
       "      <th>0</th>\n",
       "      <td></td>\n",
       "      <td>Ronald</td>\n",
       "      <td>A.</td>\n",
       "      <td>None</td>\n",
       "      <td>None</td>\n",
       "    </tr>\n",
       "    <tr>\n",
       "      <th>1</th>\n",
       "      <td></td>\n",
       "      <td>Ted</td>\n",
       "      <td>None</td>\n",
       "      <td>None</td>\n",
       "      <td>None</td>\n",
       "    </tr>\n",
       "    <tr>\n",
       "      <th>2</th>\n",
       "      <td></td>\n",
       "      <td>Elizabeth</td>\n",
       "      <td>None</td>\n",
       "      <td>None</td>\n",
       "      <td>None</td>\n",
       "    </tr>\n",
       "    <tr>\n",
       "      <th>3</th>\n",
       "      <td></td>\n",
       "      <td>Sheldon</td>\n",
       "      <td>None</td>\n",
       "      <td>None</td>\n",
       "      <td>None</td>\n",
       "    </tr>\n",
       "    <tr>\n",
       "      <th>4</th>\n",
       "      <td></td>\n",
       "      <td>Todd</td>\n",
       "      <td>None</td>\n",
       "      <td>None</td>\n",
       "      <td>None</td>\n",
       "    </tr>\n",
       "    <tr>\n",
       "      <th>...</th>\n",
       "      <td>...</td>\n",
       "      <td>...</td>\n",
       "      <td>...</td>\n",
       "      <td>...</td>\n",
       "      <td>...</td>\n",
       "    </tr>\n",
       "    <tr>\n",
       "      <th>2495</th>\n",
       "      <td></td>\n",
       "      <td>Bob</td>\n",
       "      <td>None</td>\n",
       "      <td>None</td>\n",
       "      <td>None</td>\n",
       "    </tr>\n",
       "    <tr>\n",
       "      <th>2496</th>\n",
       "      <td></td>\n",
       "      <td>William</td>\n",
       "      <td>W.</td>\n",
       "      <td>None</td>\n",
       "      <td>None</td>\n",
       "    </tr>\n",
       "    <tr>\n",
       "      <th>2497</th>\n",
       "      <td></td>\n",
       "      <td>Barney</td>\n",
       "      <td>None</td>\n",
       "      <td>None</td>\n",
       "      <td>None</td>\n",
       "    </tr>\n",
       "    <tr>\n",
       "      <th>2498</th>\n",
       "      <td></td>\n",
       "      <td>Jon</td>\n",
       "      <td>D.</td>\n",
       "      <td>None</td>\n",
       "      <td>None</td>\n",
       "    </tr>\n",
       "    <tr>\n",
       "      <th>2499</th>\n",
       "      <td></td>\n",
       "      <td>Wyche</td>\n",
       "      <td>None</td>\n",
       "      <td>None</td>\n",
       "      <td>None</td>\n",
       "    </tr>\n",
       "  </tbody>\n",
       "</table>\n",
       "<p>2500 rows × 5 columns</p>\n",
       "</div>"
      ],
      "text/plain": [
       "     0           1     2     3     4\n",
       "0           Ronald    A.  None  None\n",
       "1              Ted  None  None  None\n",
       "2        Elizabeth  None  None  None\n",
       "3          Sheldon  None  None  None\n",
       "4             Todd  None  None  None\n",
       "...  ..        ...   ...   ...   ...\n",
       "2495           Bob  None  None  None\n",
       "2496       William    W.  None  None\n",
       "2497        Barney  None  None  None\n",
       "2498           Jon    D.  None  None\n",
       "2499         Wyche  None  None  None\n",
       "\n",
       "[2500 rows x 5 columns]"
      ]
     },
     "execution_count": 4,
     "metadata": {},
     "output_type": "execute_result"
    }
   ],
   "source": [
    "# Split First_temp based on space and store in temp df\n",
    "name_split = adf[\"First_temp\"].str.split(\" \",expand=True)\n",
    "#name_split.to_csv(\"test.csv\")\n",
    "\n",
    "name_split"
   ]
  },
  {
   "cell_type": "code",
   "execution_count": 6,
   "id": "09e1ee10",
   "metadata": {},
   "outputs": [
    {
     "data": {
      "text/plain": [
       "['',\n",
       " 'Q.',\n",
       " '',\n",
       " '',\n",
       " '',\n",
       " 'Coleman',\n",
       " '',\n",
       " 'S.',\n",
       " 'R.',\n",
       " '',\n",
       " 'Camacho',\n",
       " '',\n",
       " 'J.',\n",
       " '',\n",
       " '',\n",
       " '',\n",
       " 'W.',\n",
       " 'Bill',\n",
       " '',\n",
       " '',\n",
       " 'F.',\n",
       " '',\n",
       " '',\n",
       " 'H.',\n",
       " '',\n",
       " 'F.',\n",
       " '',\n",
       " '',\n",
       " '',\n",
       " '',\n",
       " '',\n",
       " '',\n",
       " '',\n",
       " 'C.',\n",
       " '',\n",
       " '',\n",
       " 'Dutch',\n",
       " '',\n",
       " '',\n",
       " 'Happy',\n",
       " 'H.',\n",
       " 'Bryan',\n",
       " '',\n",
       " '',\n",
       " '',\n",
       " '',\n",
       " '',\n",
       " '',\n",
       " 'B.']"
      ]
     },
     "execution_count": 6,
     "metadata": {},
     "output_type": "execute_result"
    }
   ],
   "source": [
    "# Check different columns of name_split to see what it contains\n",
    "# Should hopefully only need first three worth\n",
    "name_split.loc[name_split[3].notnull(),3].tolist()"
   ]
  },
  {
   "cell_type": "code",
   "execution_count": 7,
   "id": "656be4c8",
   "metadata": {},
   "outputs": [],
   "source": [
    "# After confirming name_split looks good, bring into actuals\n",
    "adf[\"First_Actual\"] = name_split[1]\n",
    "adf[\"Middle_1\"] = name_split[2]\n",
    "adf[\"Middle_2\"] = name_split[3]"
   ]
  },
  {
   "cell_type": "code",
   "execution_count": 8,
   "id": "9f772ae2",
   "metadata": {},
   "outputs": [
    {
     "data": {
      "text/plain": [
       "      119\n",
       "        4\n",
       "        1\n",
       "Name: Suffix_temp, dtype: int64"
      ]
     },
     "execution_count": 8,
     "metadata": {},
     "output_type": "execute_result"
    }
   ],
   "source": [
    "# Confirm Suffix is empty before dropping\n",
    "adf[\"Suffix_temp\"].value_counts()"
   ]
  },
  {
   "cell_type": "code",
   "execution_count": 9,
   "id": "30c3e4d1",
   "metadata": {},
   "outputs": [],
   "source": [
    "# Clean up columns and empty strings\n",
    "adf = adf.drop([\"First_temp\",\"Suffix_temp\",],axis=1)\n",
    "adf = adf.replace(\"\",np.nan)"
   ]
  },
  {
   "cell_type": "code",
   "execution_count": 14,
   "id": "b57873c7",
   "metadata": {},
   "outputs": [
    {
     "data": {
      "text/plain": [
       "F.         2\n",
       "H.         2\n",
       "Q.         1\n",
       "Coleman    1\n",
       "S.         1\n",
       "R.         1\n",
       "Camacho    1\n",
       "J.         1\n",
       "W.         1\n",
       "Bill       1\n",
       "C.         1\n",
       "Dutch      1\n",
       "Happy      1\n",
       "Bryan      1\n",
       "B.         1\n",
       "Name: Middle_2, dtype: int64"
      ]
     },
     "execution_count": 14,
     "metadata": {},
     "output_type": "execute_result"
    }
   ],
   "source": [
    "# Run these two to make sure Middle_1 and Middle_2 look good\n",
    "adf.loc[adf[\"Middle_1\"].notnull(),\"Middle_1\"].tolist()\n",
    "adf[\"Middle_2\"].value_counts()"
   ]
  },
  {
   "cell_type": "code",
   "execution_count": null,
   "id": "7f494411",
   "metadata": {},
   "outputs": [],
   "source": [
    "# Export \n",
    "adf.to_csv(\"test2.csv\")"
   ]
  }
 ],
 "metadata": {
  "kernelspec": {
   "display_name": "Python 3 (ipykernel)",
   "language": "python",
   "name": "python3"
  },
  "language_info": {
   "codemirror_mode": {
    "name": "ipython",
    "version": 3
   },
   "file_extension": ".py",
   "mimetype": "text/x-python",
   "name": "python",
   "nbconvert_exporter": "python",
   "pygments_lexer": "ipython3",
   "version": "3.9.13"
  }
 },
 "nbformat": 4,
 "nbformat_minor": 5
}
