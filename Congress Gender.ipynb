{
 "cells": [
  {
   "cell_type": "code",
   "execution_count": 1,
   "id": "8f382e54",
   "metadata": {},
   "outputs": [],
   "source": [
    "import requests\n",
    "import json\n",
    "import pprint\n",
    "import pandas as pd"
   ]
  },
  {
   "cell_type": "code",
   "execution_count": 2,
   "id": "67a7bff1",
   "metadata": {},
   "outputs": [],
   "source": [
    "congress_api_key = \"hi8Fnm4tMO7CV7lgUfvOqJVkPBnORYoDpqVdnmlE\""
   ]
  },
  {
   "cell_type": "code",
   "execution_count": 3,
   "id": "6b0f284f",
   "metadata": {},
   "outputs": [],
   "source": [
    "limit = 950\n",
    "offset = 751"
   ]
  },
  {
   "cell_type": "code",
   "execution_count": 6,
   "id": "25b54bb2",
   "metadata": {},
   "outputs": [],
   "source": [
    "csv_path = \"C:/Users/17202/Documents/GitHub/project1/legislator_info.csv\"\n",
    "\n",
    "legislator_info_df = pd.read_csv(csv_path)\n"
   ]
  },
  {
   "cell_type": "code",
   "execution_count": 7,
   "id": "dc771038",
   "metadata": {},
   "outputs": [
    {
     "data": {
      "text/html": [
       "<div>\n",
       "<style scoped>\n",
       "    .dataframe tbody tr th:only-of-type {\n",
       "        vertical-align: middle;\n",
       "    }\n",
       "\n",
       "    .dataframe tbody tr th {\n",
       "        vertical-align: top;\n",
       "    }\n",
       "\n",
       "    .dataframe thead th {\n",
       "        text-align: right;\n",
       "    }\n",
       "</style>\n",
       "<table border=\"1\" class=\"dataframe\">\n",
       "  <thead>\n",
       "    <tr style=\"text-align: right;\">\n",
       "      <th></th>\n",
       "      <th>Unnamed: 0</th>\n",
       "      <th>Bio Guide ID</th>\n",
       "      <th>Name</th>\n",
       "      <th>Party</th>\n",
       "      <th>State</th>\n",
       "      <th>API URL</th>\n",
       "      <th>District Number</th>\n",
       "      <th>Senate End Year</th>\n",
       "      <th>Senate Start Year</th>\n",
       "      <th>House Start Year</th>\n",
       "      <th>House End Year</th>\n",
       "    </tr>\n",
       "  </thead>\n",
       "  <tbody>\n",
       "    <tr>\n",
       "      <th>0</th>\n",
       "      <td>0</td>\n",
       "      <td>S000062</td>\n",
       "      <td>Sarasin, Ronald A.</td>\n",
       "      <td>Republican</td>\n",
       "      <td>Connecticut</td>\n",
       "      <td>https://api.congress.gov/v3/member/S000062?for...</td>\n",
       "      <td>5.0</td>\n",
       "      <td>NaN</td>\n",
       "      <td>NaN</td>\n",
       "      <td>1973.0</td>\n",
       "      <td>1979.0</td>\n",
       "    </tr>\n",
       "    <tr>\n",
       "      <th>1</th>\n",
       "      <td>1</td>\n",
       "      <td>B001305</td>\n",
       "      <td>Budd, Ted</td>\n",
       "      <td>Republican</td>\n",
       "      <td>North Carolina</td>\n",
       "      <td>https://api.congress.gov/v3/member/B001305?for...</td>\n",
       "      <td>NaN</td>\n",
       "      <td>NaN</td>\n",
       "      <td>2023.0</td>\n",
       "      <td>2017.0</td>\n",
       "      <td>2023.0</td>\n",
       "    </tr>\n",
       "    <tr>\n",
       "      <th>2</th>\n",
       "      <td>2</td>\n",
       "      <td>W000817</td>\n",
       "      <td>Warren, Elizabeth</td>\n",
       "      <td>Democratic</td>\n",
       "      <td>Massachusetts</td>\n",
       "      <td>https://api.congress.gov/v3/member/W000817?for...</td>\n",
       "      <td>NaN</td>\n",
       "      <td>NaN</td>\n",
       "      <td>2013.0</td>\n",
       "      <td>NaN</td>\n",
       "      <td>NaN</td>\n",
       "    </tr>\n",
       "    <tr>\n",
       "      <th>3</th>\n",
       "      <td>3</td>\n",
       "      <td>W000802</td>\n",
       "      <td>Whitehouse, Sheldon</td>\n",
       "      <td>Democratic</td>\n",
       "      <td>Rhode Island</td>\n",
       "      <td>https://api.congress.gov/v3/member/W000802?for...</td>\n",
       "      <td>NaN</td>\n",
       "      <td>NaN</td>\n",
       "      <td>2007.0</td>\n",
       "      <td>NaN</td>\n",
       "      <td>NaN</td>\n",
       "    </tr>\n",
       "    <tr>\n",
       "      <th>4</th>\n",
       "      <td>4</td>\n",
       "      <td>Y000064</td>\n",
       "      <td>Young, Todd</td>\n",
       "      <td>Republican</td>\n",
       "      <td>Indiana</td>\n",
       "      <td>https://api.congress.gov/v3/member/Y000064?for...</td>\n",
       "      <td>NaN</td>\n",
       "      <td>NaN</td>\n",
       "      <td>2017.0</td>\n",
       "      <td>2011.0</td>\n",
       "      <td>2017.0</td>\n",
       "    </tr>\n",
       "    <tr>\n",
       "      <th>...</th>\n",
       "      <td>...</td>\n",
       "      <td>...</td>\n",
       "      <td>...</td>\n",
       "      <td>...</td>\n",
       "      <td>...</td>\n",
       "      <td>...</td>\n",
       "      <td>...</td>\n",
       "      <td>...</td>\n",
       "      <td>...</td>\n",
       "      <td>...</td>\n",
       "      <td>...</td>\n",
       "    </tr>\n",
       "    <tr>\n",
       "      <th>2495</th>\n",
       "      <td>2495</td>\n",
       "      <td>F000349</td>\n",
       "      <td>Franks, Bob</td>\n",
       "      <td>Republican</td>\n",
       "      <td>New Jersey</td>\n",
       "      <td>https://api.congress.gov/v3/member/F000349?for...</td>\n",
       "      <td>7.0</td>\n",
       "      <td>NaN</td>\n",
       "      <td>NaN</td>\n",
       "      <td>1993.0</td>\n",
       "      <td>2001.0</td>\n",
       "    </tr>\n",
       "    <tr>\n",
       "      <th>2496</th>\n",
       "      <td>2496</td>\n",
       "      <td>F000347</td>\n",
       "      <td>Franklin, William W.</td>\n",
       "      <td>Republican</td>\n",
       "      <td>Mississippi</td>\n",
       "      <td>https://api.congress.gov/v3/member/F000347?for...</td>\n",
       "      <td>2.0</td>\n",
       "      <td>NaN</td>\n",
       "      <td>NaN</td>\n",
       "      <td>1983.0</td>\n",
       "      <td>1987.0</td>\n",
       "    </tr>\n",
       "    <tr>\n",
       "      <th>2497</th>\n",
       "      <td>2497</td>\n",
       "      <td>F000339</td>\n",
       "      <td>Frank, Barney</td>\n",
       "      <td>Democratic</td>\n",
       "      <td>Massachusetts</td>\n",
       "      <td>https://api.congress.gov/v3/member/F000339?for...</td>\n",
       "      <td>4.0</td>\n",
       "      <td>NaN</td>\n",
       "      <td>NaN</td>\n",
       "      <td>1981.0</td>\n",
       "      <td>2013.0</td>\n",
       "    </tr>\n",
       "    <tr>\n",
       "      <th>2498</th>\n",
       "      <td>2498</td>\n",
       "      <td>F000332</td>\n",
       "      <td>Fox, Jon D.</td>\n",
       "      <td>Republican</td>\n",
       "      <td>Pennsylvania</td>\n",
       "      <td>https://api.congress.gov/v3/member/F000332?for...</td>\n",
       "      <td>13.0</td>\n",
       "      <td>NaN</td>\n",
       "      <td>NaN</td>\n",
       "      <td>1995.0</td>\n",
       "      <td>1999.0</td>\n",
       "    </tr>\n",
       "    <tr>\n",
       "      <th>2499</th>\n",
       "      <td>2499</td>\n",
       "      <td>F000329</td>\n",
       "      <td>Fowler, Wyche, Jr.</td>\n",
       "      <td>Democratic</td>\n",
       "      <td>Georgia</td>\n",
       "      <td>https://api.congress.gov/v3/member/F000329?for...</td>\n",
       "      <td>NaN</td>\n",
       "      <td>1993.0</td>\n",
       "      <td>1987.0</td>\n",
       "      <td>1977.0</td>\n",
       "      <td>1987.0</td>\n",
       "    </tr>\n",
       "  </tbody>\n",
       "</table>\n",
       "<p>2500 rows × 11 columns</p>\n",
       "</div>"
      ],
      "text/plain": [
       "      Unnamed: 0 Bio Guide ID                  Name       Party  \\\n",
       "0              0      S000062    Sarasin, Ronald A.  Republican   \n",
       "1              1      B001305             Budd, Ted  Republican   \n",
       "2              2      W000817     Warren, Elizabeth  Democratic   \n",
       "3              3      W000802   Whitehouse, Sheldon  Democratic   \n",
       "4              4      Y000064           Young, Todd  Republican   \n",
       "...          ...          ...                   ...         ...   \n",
       "2495        2495      F000349           Franks, Bob  Republican   \n",
       "2496        2496      F000347  Franklin, William W.  Republican   \n",
       "2497        2497      F000339         Frank, Barney  Democratic   \n",
       "2498        2498      F000332           Fox, Jon D.  Republican   \n",
       "2499        2499      F000329    Fowler, Wyche, Jr.  Democratic   \n",
       "\n",
       "               State                                            API URL  \\\n",
       "0        Connecticut  https://api.congress.gov/v3/member/S000062?for...   \n",
       "1     North Carolina  https://api.congress.gov/v3/member/B001305?for...   \n",
       "2      Massachusetts  https://api.congress.gov/v3/member/W000817?for...   \n",
       "3       Rhode Island  https://api.congress.gov/v3/member/W000802?for...   \n",
       "4            Indiana  https://api.congress.gov/v3/member/Y000064?for...   \n",
       "...              ...                                                ...   \n",
       "2495      New Jersey  https://api.congress.gov/v3/member/F000349?for...   \n",
       "2496     Mississippi  https://api.congress.gov/v3/member/F000347?for...   \n",
       "2497   Massachusetts  https://api.congress.gov/v3/member/F000339?for...   \n",
       "2498    Pennsylvania  https://api.congress.gov/v3/member/F000332?for...   \n",
       "2499         Georgia  https://api.congress.gov/v3/member/F000329?for...   \n",
       "\n",
       "      District Number  Senate End Year  Senate Start Year  House Start Year  \\\n",
       "0                 5.0              NaN                NaN            1973.0   \n",
       "1                 NaN              NaN             2023.0            2017.0   \n",
       "2                 NaN              NaN             2013.0               NaN   \n",
       "3                 NaN              NaN             2007.0               NaN   \n",
       "4                 NaN              NaN             2017.0            2011.0   \n",
       "...               ...              ...                ...               ...   \n",
       "2495              7.0              NaN                NaN            1993.0   \n",
       "2496              2.0              NaN                NaN            1983.0   \n",
       "2497              4.0              NaN                NaN            1981.0   \n",
       "2498             13.0              NaN                NaN            1995.0   \n",
       "2499              NaN           1993.0             1987.0            1977.0   \n",
       "\n",
       "      House End Year  \n",
       "0             1979.0  \n",
       "1             2023.0  \n",
       "2                NaN  \n",
       "3                NaN  \n",
       "4             2017.0  \n",
       "...              ...  \n",
       "2495          2001.0  \n",
       "2496          1987.0  \n",
       "2497          2013.0  \n",
       "2498          1999.0  \n",
       "2499          1987.0  \n",
       "\n",
       "[2500 rows x 11 columns]"
      ]
     },
     "execution_count": 7,
     "metadata": {},
     "output_type": "execute_result"
    }
   ],
   "source": [
    "legislator_info_df"
   ]
  },
  {
   "cell_type": "code",
   "execution_count": null,
   "id": "dfdbb73a",
   "metadata": {},
   "outputs": [],
   "source": [
    "url = f\"https://api.congress.gov/v3/member?limit={limit}&offset={offset}&api_key={congress_api_key}\"\n",
    "\n",
    "response = requests.get(url).json()\n",
    "# pprint.pprint(response)"
   ]
  },
  {
   "cell_type": "code",
   "execution_count": null,
   "id": "df378fb5",
   "metadata": {},
   "outputs": [],
   "source": [
    "members_num = len(response[\"members\"])\n",
    "members=[]"
   ]
  },
  {
   "cell_type": "code",
   "execution_count": null,
   "id": "cecf6f4d",
   "metadata": {},
   "outputs": [],
   "source": [
    "members_num "
   ]
  },
  {
   "cell_type": "code",
   "execution_count": null,
   "id": "40122ab9",
   "metadata": {},
   "outputs": [],
   "source": [
    "for i in range(members_num):\n",
    "    ID = response[\"members\"][i][\"member\"][\"bioguideId\"]\n",
    "    members.append(ID)\n",
    "# print(members)"
   ]
  },
  {
   "cell_type": "code",
   "execution_count": null,
   "id": "ff7d18d5",
   "metadata": {},
   "outputs": [],
   "source": [
    "gender = []\n",
    "\n",
    "for x in members: \n",
    "    url = f\"https://api.congress.gov/v3/member/{x}?limit={limit}&offset={offset}&api_key={congress_api_key}\"\n",
    "\n",
    "    response = requests.get(url).json()\n",
    "    member = response[\"member\"]\n",
    "    name = member[\"invertedOrderName\"]\n",
    "\n",
    "    honorific_name = member[\"honorificName\"] if \"honorificName\" in member else None\n",
    "\n",
    "    if honorific_name:\n",
    "        if honorific_name == \"Mr.\":\n",
    "            sex = \"M\"\n",
    "        elif honorific_name in (\"Mrs.\", \"Ms.\", \"Miss\"):\n",
    "            sex = \"F\"\n",
    "        else:\n",
    "            sex = \"U\"\n",
    "    else:\n",
    "        sex = \"U\"\n",
    "\n",
    "    gender.append({\"Name\" :name,\n",
    "                   \"Gender\": sex})"
   ]
  },
  {
   "cell_type": "code",
   "execution_count": null,
   "id": "59cf4e84",
   "metadata": {},
   "outputs": [],
   "source": [
    "print(gender)"
   ]
  },
  {
   "cell_type": "code",
   "execution_count": null,
   "id": "7fdd6756",
   "metadata": {},
   "outputs": [],
   "source": [
    "congress_gender_df = pd.DataFrame(gender)"
   ]
  },
  {
   "cell_type": "code",
   "execution_count": null,
   "id": "b8dd7748",
   "metadata": {},
   "outputs": [],
   "source": [
    "congress_gender_df"
   ]
  },
  {
   "cell_type": "code",
   "execution_count": null,
   "id": "41095aa8",
   "metadata": {},
   "outputs": [],
   "source": [
    "merged_df = pd.merge(legislator_info_df, congress_gender_df, on = \"Name\" )"
   ]
  },
  {
   "cell_type": "code",
   "execution_count": null,
   "id": "43c0e974",
   "metadata": {},
   "outputs": [],
   "source": [
    "merged_df"
   ]
  },
  {
   "cell_type": "code",
   "execution_count": null,
   "id": "3aacb058",
   "metadata": {},
   "outputs": [],
   "source": [
    "bill_member =[]\n",
    "\n",
    "for z in members:\n",
    "    url = f\"https://api.congress.gov/v3/member/{z}?limit={limit}&offset={offset}&api_key={congress_api_key}\"\n",
    "    response = requests.get(url).json()\n",
    "    member = response[\"member\"]\n",
    "    name = member[\"invertedOrderName\"]\n",
    "    \n",
    "    bills = member[\"sponsoredLegislation\"][\"count\"] if \"sponsoredLegislation\" in member else None\n",
    "    \n",
    "    bill_member.append({\"Name\" : name,\n",
    "                       \"Bill\" : bills})"
   ]
  },
  {
   "cell_type": "code",
   "execution_count": null,
   "id": "c8c83357",
   "metadata": {},
   "outputs": [],
   "source": [
    "print(bill_member)"
   ]
  },
  {
   "cell_type": "code",
   "execution_count": null,
   "id": "cbb26818",
   "metadata": {},
   "outputs": [],
   "source": [
    "bill_congress = pd.DataFrame(bill_member)\n",
    "\n",
    "bill_congress"
   ]
  },
  {
   "cell_type": "code",
   "execution_count": null,
   "id": "c34aa4a7",
   "metadata": {},
   "outputs": [],
   "source": [
    "combined_df = pd.merge(merged_df, bill_congress, on=\"Name\")"
   ]
  },
  {
   "cell_type": "code",
   "execution_count": null,
   "id": "93490dab",
   "metadata": {},
   "outputs": [],
   "source": [
    "combined_df"
   ]
  },
  {
   "cell_type": "code",
   "execution_count": null,
   "id": "fd265e97",
   "metadata": {},
   "outputs": [],
   "source": [
    "combined_df.to_csv(\"Congress_Gender_1000.csv\", index=False)"
   ]
  },
  {
   "cell_type": "code",
   "execution_count": null,
   "id": "bb290999",
   "metadata": {},
   "outputs": [],
   "source": []
  },
  {
   "cell_type": "code",
   "execution_count": null,
   "id": "b9b2bf35",
   "metadata": {},
   "outputs": [],
   "source": []
  },
  {
   "cell_type": "code",
   "execution_count": null,
   "id": "da8fe115",
   "metadata": {},
   "outputs": [],
   "source": []
  },
  {
   "cell_type": "code",
   "execution_count": null,
   "id": "5a37e2a6",
   "metadata": {},
   "outputs": [],
   "source": []
  },
  {
   "cell_type": "code",
   "execution_count": null,
   "id": "9ef348b0",
   "metadata": {},
   "outputs": [],
   "source": []
  },
  {
   "cell_type": "code",
   "execution_count": null,
   "id": "b461596c",
   "metadata": {},
   "outputs": [],
   "source": []
  },
  {
   "cell_type": "code",
   "execution_count": null,
   "id": "e6b53423",
   "metadata": {},
   "outputs": [],
   "source": []
  },
  {
   "cell_type": "code",
   "execution_count": null,
   "id": "adfd36e5",
   "metadata": {},
   "outputs": [],
   "source": []
  },
  {
   "cell_type": "code",
   "execution_count": null,
   "id": "b70f6ee2",
   "metadata": {},
   "outputs": [],
   "source": []
  },
  {
   "cell_type": "code",
   "execution_count": null,
   "id": "e7b997e6",
   "metadata": {},
   "outputs": [],
   "source": []
  },
  {
   "cell_type": "code",
   "execution_count": null,
   "id": "873ea8dd",
   "metadata": {},
   "outputs": [],
   "source": []
  },
  {
   "cell_type": "code",
   "execution_count": null,
   "id": "3aeabe2c",
   "metadata": {},
   "outputs": [],
   "source": []
  }
 ],
 "metadata": {
  "kernelspec": {
   "display_name": "Python 3 (ipykernel)",
   "language": "python",
   "name": "python3"
  },
  "language_info": {
   "codemirror_mode": {
    "name": "ipython",
    "version": 3
   },
   "file_extension": ".py",
   "mimetype": "text/x-python",
   "name": "python",
   "nbconvert_exporter": "python",
   "pygments_lexer": "ipython3",
   "version": "3.9.13"
  }
 },
 "nbformat": 4,
 "nbformat_minor": 5
}
