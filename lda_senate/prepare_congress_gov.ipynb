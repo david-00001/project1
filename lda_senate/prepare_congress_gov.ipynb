{
 "cells": [
  {
   "cell_type": "code",
   "execution_count": null,
   "id": "cfefe0d0",
   "metadata": {},
   "outputs": [],
   "source": [
    "import pandas as pd\n",
    "import numpy as np\n",
    "\n",
    "adf = pd.read_csv(\"../legislator_info.csv\")\n",
    "adf = adf.drop([\"Unnamed: 0\",\"API URL\"],axis=1)\n",
    "#suffix_list = [\"Jr.\",\"Sr.\",\"IV\",\"II\",\"III\"]\n",
    "\n",
    "# Extract Suffix and remove from source column\n",
    "#adf['Suffix'] = adf['Name'].apply(lambda x: next((s for s in suffix_list if s in x), None))\n",
    "#for suffix in suffix_list:\n",
    "#    adf['Name'] = adf['Name'].str.replace(suffix, \"\",regex=False)\n",
    "adf['Suffix'] = adf['Name'].str.extract(r'(Jr\\.|III|IV|II|Sr\\.)')\n",
    "\n",
    "# replace suffixes with empty strings\n",
    "adf['Name'] = adf['Name'].str.replace(r'(Jr\\.|III|IV|II|Sr\\.)', '',regex=True)\n",
    "\n",
    "# Extract nicknames and remove from source column\n",
    "adf[\"Nickname\"] = adf[\"Name\"].str.extract(r'(\"[^\"]+\"|\\([^)]+\\))')\n",
    "adf[\"Name\"] = adf[\"Name\"].str.replace(r'(\"[^\"]+\"|\\([^)]+\\))',\"\",regex=True)\n",
    "\n",
    "# Split name into separate columns\n",
    "adf[[\"Last\",\"First\",\"Suffix2\"]] = adf[\"Name\"].str.split(\",\",expand=True)\n",
    "\n",
    "# Remove extra characters and spaces\n",
    "adf[\"Nickname\"] = adf[\"Nickname\"].str.replace(\"(\",\"\",regex=False).str.replace(\")\", \"\",regex=False).str.replace('\"', \"\",regex=False).str.replace(\",\",\"\",regex=False)\n",
    "#adf[\"Suffix\"] = adf[\"Suffix\"].str.replace(\" \",\"\",regex=False).str.replace('\"', \"\",regex=False)\n"
   ]
  },
  {
   "cell_type": "code",
   "execution_count": null,
   "id": "3d2e4c38",
   "metadata": {},
   "outputs": [],
   "source": [
    "name_split = adf[\"First\"].str.split(\" \",expand=True)\n",
    "#name_split.to_csv(\"test.csv\")"
   ]
  },
  {
   "cell_type": "code",
   "execution_count": null,
   "id": "30ecfd4a",
   "metadata": {},
   "outputs": [],
   "source": [
    "adf.loc[779]"
   ]
  },
  {
   "cell_type": "code",
   "execution_count": null,
   "id": "7c97f0ff",
   "metadata": {},
   "outputs": [],
   "source": [
    "name_split"
   ]
  },
  {
   "cell_type": "code",
   "execution_count": null,
   "id": "7cda46cc",
   "metadata": {},
   "outputs": [],
   "source": [
    "name_split.loc[name_split[4].notnull(),4].tolist()"
   ]
  },
  {
   "cell_type": "code",
   "execution_count": null,
   "id": "98f2e216",
   "metadata": {},
   "outputs": [],
   "source": [
    "# Confirm Suffix2 is empty before dropping\n",
    "adf[\"Suffix2\"].value_counts()\n",
    "adf=adf.drop(\"Suffix2\",axis=1)"
   ]
  },
  {
   "cell_type": "code",
   "execution_count": null,
   "id": "ffa45483",
   "metadata": {},
   "outputs": [],
   "source": [
    "# Verify Suffix looks good\n",
    "#adf[\"Suffix\"] = adf[\"Suffix\"].fillna(\"\")\n",
    "#adf[\"Suffix2\"] = adf[\"Suffix2\"].fillna(\"\")\n",
    "#adf[\"Suffixes\"] = adf['Suffix'].str.cat(adf['Suffix2'], sep='')\n",
    "\n",
    "# Clean up Suffix2\n",
    "#adf[\"Suffix2\"] = adf[\"Suffix2\"].replace(\"\",np.nan)\n",
    "#adf[\"Suffix2\"] = adf[\"Suffix2\"].replace(\" \",np.nan)\n",
    "#adf[\"Suffix2\"] = adf[\"Suffix2\"].replace(\"  \",np.nan)\n",
    "#adf[\"Suffix\"] = adf[\"Suffix\"].replace(\" \",\"\")\n",
    "#adf[\"Suffix\"] = adf[\"Suffix\"].replace(\"  \",\"\")\n",
    "#adf[\"Suffixes\"] = adf[\"Suffixes\"].replace(\"  \",np.nan)\n",
    "adf[\"Suffix\"].value_counts()"
   ]
  },
  {
   "cell_type": "code",
   "execution_count": null,
   "id": "01fc323e",
   "metadata": {},
   "outputs": [],
   "source": [
    "adf[\"Suffix2\"].dropna().tolist()"
   ]
  },
  {
   "cell_type": "code",
   "execution_count": null,
   "id": "7f494411",
   "metadata": {},
   "outputs": [],
   "source": [
    "adf.to_csv(\"test2.csv\")"
   ]
  },
  {
   "cell_type": "code",
   "execution_count": null,
   "id": "d3f018dd",
   "metadata": {},
   "outputs": [],
   "source": [
    "# Verify Nickname looks good\n",
    "adf[\"Nickname\"].value_counts()"
   ]
  },
  {
   "cell_type": "code",
   "execution_count": null,
   "id": "8b74481d",
   "metadata": {},
   "outputs": [],
   "source": [
    "adf[[\"First Name\",\"MI\"]] = adf[\"First Name MI\"].str.split(\",\",expand=True)"
   ]
  },
  {
   "cell_type": "code",
   "execution_count": null,
   "id": "5202f678",
   "metadata": {},
   "outputs": [],
   "source": []
  }
 ],
 "metadata": {
  "kernelspec": {
   "display_name": "Python 3 (ipykernel)",
   "language": "python",
   "name": "python3"
  },
  "language_info": {
   "codemirror_mode": {
    "name": "ipython",
    "version": 3
   },
   "file_extension": ".py",
   "mimetype": "text/x-python",
   "name": "python",
   "nbconvert_exporter": "python",
   "pygments_lexer": "ipython3",
   "version": "3.9.13"
  }
 },
 "nbformat": 4,
 "nbformat_minor": 5
}
