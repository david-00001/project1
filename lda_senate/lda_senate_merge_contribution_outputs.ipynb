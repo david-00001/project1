{
 "cells": [
  {
   "cell_type": "code",
   "execution_count": null,
   "id": "bd1cdb8e",
   "metadata": {},
   "outputs": [],
   "source": [
    "import pandas as pd\n",
    "import numpy as np"
   ]
  },
  {
   "cell_type": "code",
   "execution_count": null,
   "id": "b3dca179",
   "metadata": {},
   "outputs": [],
   "source": [
    "df1 = pd.read_csv(\"lda_senate_output/2022page1-100.csv\")\n",
    "df2 = pd.read_csv(\"lda_senate_output/2022page101-200.csv\")\n",
    "df3 = pd.read_csv(\"lda_senate_output/2022page201-300.csv\")\n"
   ]
  },
  {
   "cell_type": "code",
   "execution_count": null,
   "id": "edd405b3",
   "metadata": {},
   "outputs": [],
   "source": [
    "df = pd.concat([df1,df2,df3])"
   ]
  },
  {
   "cell_type": "code",
   "execution_count": null,
   "id": "213ab78b",
   "metadata": {},
   "outputs": [],
   "source": [
    "df"
   ]
  },
  {
   "cell_type": "code",
   "execution_count": null,
   "id": "c45a0e3b",
   "metadata": {},
   "outputs": [],
   "source": [
    "print(df1.shape)\n",
    "print(df2.shape)\n",
    "print(df3.shape)"
   ]
  },
  {
   "cell_type": "code",
   "execution_count": null,
   "id": "ce3535f8",
   "metadata": {},
   "outputs": [],
   "source": [
    "print(len(df[\"honoree_name\"].value_counts()))"
   ]
  },
  {
   "cell_type": "code",
   "execution_count": null,
   "id": "eb2f8769",
   "metadata": {},
   "outputs": [],
   "source": [
    "df.to_csv(\"2022page1-300.csv\",index=False)"
   ]
  },
  {
   "cell_type": "code",
   "execution_count": null,
   "id": "161fbbac",
   "metadata": {},
   "outputs": [],
   "source": [
    "df_sum = df.groupby(\"honoree_name\")[\"amount\"].sum()\n",
    "df2 = df_sum.to_frame().reset_index()\n",
    "df2.sort_values(\"amount\",ascending=True, inplace=True)\n",
    "df2"
   ]
  },
  {
   "cell_type": "code",
   "execution_count": null,
   "id": "b9251c10",
   "metadata": {},
   "outputs": [],
   "source": [
    "search_mike = amount_sum_by_honoree_sorted[amount_sum_by_honoree_sorted[\"honoree_name\"].str.contains(\"mike\",case=False)]"
   ]
  },
  {
   "cell_type": "code",
   "execution_count": null,
   "id": "f83168aa",
   "metadata": {},
   "outputs": [],
   "source": [
    "df2.to_csv(\"groupedby_honoree_name.csv\",index=False)"
   ]
  }
 ],
 "metadata": {
  "kernelspec": {
   "display_name": "Python 3 (ipykernel)",
   "language": "python",
   "name": "python3"
  },
  "language_info": {
   "codemirror_mode": {
    "name": "ipython",
    "version": 3
   },
   "file_extension": ".py",
   "mimetype": "text/x-python",
   "name": "python",
   "nbconvert_exporter": "python",
   "pygments_lexer": "ipython3",
   "version": "3.9.13"
  }
 },
 "nbformat": 4,
 "nbformat_minor": 5
}
