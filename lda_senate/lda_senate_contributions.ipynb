{
 "cells": [
  {
   "cell_type": "code",
   "execution_count": 4,
   "id": "26c1e001",
   "metadata": {},
   "outputs": [
    {
     "name": "stdout",
     "output_type": "stream",
     "text": [
      "{'detail': 'Invalid page.'}\n"
     ]
    }
   ],
   "source": [
    "import requests,json,pprint\n",
    "import pandas as pd\n",
    "import pprint\n",
    "from api_keys import lda_senate_api_key\n",
    "\n",
    "headers = {\"Authorization\": f\"Token {lda_senate_api_key}\"}\n",
    "\n",
    "url = \"https://lda.senate.gov/api/v1/contributions/?filing_year=2023&page=50\"\n",
    "response = requests.get(url,headers=headers).json()\n",
    "#response = requests.get(url).json()\n",
    "pprint.pprint(response)\n",
    "##response"
   ]
  },
  {
   "cell_type": "code",
   "execution_count": null,
   "id": "efc9f4c2",
   "metadata": {},
   "outputs": [],
   "source": [
    "# This section does a couple things:\n",
    "# 1. Begins populating new_dict_list with information we want. Later it is converted to a df\n",
    "# 2. Counts how many results exist and how many contributions exist in each result to make sense \n",
    "# of what is being pulled versus what is present. Essentially, to make sure all are accounted for.\n",
    "# 3. It only loops through the first three pages as a test\n",
    "\n",
    "new_dict_list = []\n",
    "\n",
    "# Even though the URL is already defined above, if you don't define it again here,\n",
    "# it will start at the last page left off as it keeps updating the global variable with the last page.\n",
    "url = \"https://lda.senate.gov/api/v1/contributions/?filing_year=2013&page=1\"\n",
    "\n",
    "\n",
    "# Reset cummulativeContributions\n",
    "cummulativeContributions = 0\n",
    "\n",
    "# Loop through first three pages\n",
    "for i in range(1412):\n",
    "    #url = f\"https://lda.senate.gov/api/v1/contributions/?page={i}\"\n",
    "    print(url)\n",
    "    response = requests.get(url,headers=headers).json()\n",
    "    resultCount = 0\n",
    "    totalContributions = 0\n",
    "    for eachResult in response[\"results\"]:\n",
    "        contributionCount = 0\n",
    "        for eachContribution in eachResult[\"contribution_items\"]:\n",
    "            \n",
    "            # Store information from response as new entry in dictionary\n",
    "            new_entry = {\"date\":eachContribution[\"date\"],\n",
    "                         \"amount\":eachContribution[\"amount\"],\n",
    "                         \"honoree_name\":eachContribution[\"honoree_name\"],\n",
    "                         \"Payee Name\":eachContribution[\"payee_name\"],\n",
    "                         \"Contribution Type\":eachContribution[\"contribution_type\"],\n",
    "                         \"contributor_name\":eachContribution[\"contributor_name\"],\n",
    "                         #\"Lobbyist First Name\":eachResult[\"lobbyist\"][\"first_name\"],\n",
    "                         #\"Lobbyist Last Name\":eachResult[\"lobbyist\"][\"last_name\"],\n",
    "                         #\"Lobbyist Prefix\":eachResult[\"lobbyist\"][\"prefix\"],\n",
    "                         \"state\":eachResult[\"state\"],\n",
    "                         \"country\":eachResult[\"country\"],\n",
    "                         \"Registrant Name\":eachResult[\"registrant\"][\"name\"]}\n",
    "            new_dict_list.append(new_entry)\n",
    "            contributionCount =contributionCount+1\n",
    "        #print(f\"Contribution count is {contributionCount}\")\n",
    "        resultCount =resultCount+1\n",
    "        totalContributions = totalContributions + contributionCount\n",
    "    print(f\"Result count is {resultCount}\")\n",
    "    print(f\"Total Contributions for this page is {totalContributions}\")\n",
    "    cummulativeContributions = cummulativeContributions + totalContributions\n",
    "    url = response[\"next\"]\n",
    "        \n",
    "    \n",
    "print(f\"Cummulative contributions is {cummulativeContributions}\")\n",
    "df = pd.DataFrame(new_dict_list)\n",
    "\n",
    "df.shape"
   ]
  },
  {
   "cell_type": "code",
   "execution_count": null,
   "id": "3ee75cbc",
   "metadata": {},
   "outputs": [],
   "source": [
    "df"
   ]
  },
  {
   "cell_type": "code",
   "execution_count": null,
   "id": "3cdf5d9a",
   "metadata": {},
   "outputs": [],
   "source": [
    "df.to_csv(\"lda_senate_output/2013page1-1412.csv\",index=False)"
   ]
  }
 ],
 "metadata": {
  "kernelspec": {
   "display_name": "Python 3 (ipykernel)",
   "language": "python",
   "name": "python3"
  },
  "language_info": {
   "codemirror_mode": {
    "name": "ipython",
    "version": 3
   },
   "file_extension": ".py",
   "mimetype": "text/x-python",
   "name": "python",
   "nbconvert_exporter": "python",
   "pygments_lexer": "ipython3",
   "version": "3.9.13"
  }
 },
 "nbformat": 4,
 "nbformat_minor": 5
}
